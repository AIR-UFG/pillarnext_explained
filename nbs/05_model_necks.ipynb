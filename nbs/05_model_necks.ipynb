{
 "cells": [
  {
   "cell_type": "markdown",
   "metadata": {},
   "source": [
    "# Model: necks"
   ]
  },
  {
   "cell_type": "code",
   "execution_count": null,
   "metadata": {},
   "outputs": [],
   "source": [
    "#| default_exp model_necks"
   ]
  },
  {
   "cell_type": "code",
   "execution_count": null,
   "metadata": {},
   "outputs": [],
   "source": [
    "#|export\n",
    "import torch\n",
    "import torch.nn as nn\n",
    "from pillarnext_explained.model_utils import BasicBlock, ConvBlock\n",
    "import torch.utils.checkpoint as cp\n",
    "import torch.nn.functional as F"
   ]
  },
  {
   "cell_type": "markdown",
   "metadata": {},
   "source": [
    "## ASPP"
   ]
  },
  {
   "cell_type": "code",
   "execution_count": null,
   "metadata": {},
   "outputs": [],
   "source": [
    "#|exports\n",
    "class ASPPNeck(nn.Module):\n",
    "    \"\"\"\n",
    "    Atrous Spatial Pyramid Pooling Neck Module.\n",
    "\n",
    "    This module applies several convolutions with different dilation rates\n",
    "    to the input feature map and concatenates their outputs. The concatenated\n",
    "    output is then passed through a convolutional block to produce the final output.\n",
    "    \"\"\"\n",
    "    def __init__(self,\n",
    "                 in_channels: int # Number of input channels\n",
    "                 ):\n",
    "\n",
    "        super(ASPPNeck, self).__init__()\n",
    "\n",
    "        self.pre_conv = BasicBlock(in_channels)\n",
    "        self.conv1x1 = nn.Conv2d(\n",
    "            in_channels, in_channels, kernel_size=1, stride=1, bias=False, padding=0)\n",
    "        self.weight = nn.Parameter(torch.randn(in_channels, in_channels, 3, 3))\n",
    "        self.post_conv = ConvBlock(in_channels * 6, in_channels, kernel_size=1, stride=1)\n",
    "\n",
    "    def _forward(self, x):\n",
    "        x = self.pre_conv(x)\n",
    "        branch1x1 = self.conv1x1(x)\n",
    "        branch1 = F.conv2d(x, self.weight, stride=1,\n",
    "                           bias=None, padding=1, dilation=1)\n",
    "        branch6 = F.conv2d(x, self.weight, stride=1,\n",
    "                           bias=None, padding=6, dilation=6)\n",
    "        branch12 = F.conv2d(x, self.weight, stride=1,\n",
    "                            bias=None, padding=12, dilation=12)\n",
    "        branch18 = F.conv2d(x, self.weight, stride=1,\n",
    "                            bias=None, padding=18, dilation=18)\n",
    "        x = self.post_conv(\n",
    "            torch.cat((x, branch1x1, branch1, branch6, branch12, branch18), dim=1))\n",
    "        return x\n",
    "\n",
    "    def forward(self, x):\n",
    "        if x.requires_grad:\n",
    "            out = cp.checkpoint(self._forward, x)\n",
    "        else:\n",
    "            out = self._forward(x)\n",
    "\n",
    "        return out"
   ]
  },
  {
   "cell_type": "markdown",
   "metadata": {},
   "source": [
    "A neural network module which utilizes Atrous Spatial Pyramid Pooling (ASPP). This module is designed to extract and merge features from different receptive fields using convolutions with various dilation rates. It also employs gradient checkpointing to save memory during backpropagation."
   ]
  },
  {
   "cell_type": "code",
   "execution_count": null,
   "metadata": {},
   "outputs": [
    {
     "name": "stdout",
     "output_type": "stream",
     "text": [
      "Output shape: torch.Size([1, 64, 128, 128])\n"
     ]
    }
   ],
   "source": [
    "#|eval: false\n",
    "# Create a sample input tensor with batch size 1, 64 channels, and 128x128 spatial dimensions\n",
    "input_tensor = torch.randn(1, 64, 128, 128)\n",
    "\n",
    "# Initialize the ASPPNeck module with 64 input channels\n",
    "aspp_neck = ASPPNeck(64)\n",
    "\n",
    "# Pass the input tensor through the ASPPNeck module\n",
    "output_tensor = aspp_neck(input_tensor)\n",
    "\n",
    "# Print the shape of the output tensor\n",
    "print(\"Output shape:\", output_tensor.shape)"
   ]
  }
 ],
 "metadata": {
  "kernelspec": {
   "display_name": "python3",
   "language": "python",
   "name": "python3"
  }
 },
 "nbformat": 4,
 "nbformat_minor": 2
}
